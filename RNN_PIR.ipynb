{
  "nbformat": 4,
  "nbformat_minor": 0,
  "metadata": {
    "colab": {
      "name": "RNN_PIR.ipynb",
      "provenance": [],
      "collapsed_sections": [],
      "include_colab_link": true
    },
    "kernelspec": {
      "name": "python3",
      "display_name": "Python 3"
    },
    "language_info": {
      "name": "python"
    },
    "accelerator": "GPU",
    "gpuClass": "standard"
  },
  "cells": [
    {
      "cell_type": "markdown",
      "metadata": {
        "id": "view-in-github",
        "colab_type": "text"
      },
      "source": [
        "<a href=\"https://colab.research.google.com/github/truongvanhuy2000/DeepLearning/blob/main/RNN_PIR.ipynb\" target=\"_parent\"><img src=\"https://colab.research.google.com/assets/colab-badge.svg\" alt=\"Open In Colab\"/></a>"
      ]
    },
    {
      "cell_type": "code",
      "execution_count": null,
      "metadata": {
        "id": "lajYGvbbX7Kg"
      },
      "outputs": [],
      "source": [
        "a = [[1,2],[20,5,3]]"
      ]
    },
    {
      "cell_type": "code",
      "source": [
        "import numpy as np\n",
        "import matplotlib.pyplot as plt\n",
        "import pandas as pd"
      ],
      "metadata": {
        "id": "jtOwwG1FYnm4"
      },
      "execution_count": null,
      "outputs": []
    },
    {
      "cell_type": "code",
      "source": [
        "dataset = pd.read_csv('/content/nvs_verfinal-1.csv')\n",
        "X = dataset.iloc[:, 1:-1].values\n",
        "y = dataset.iloc[:, -1].values"
      ],
      "metadata": {
        "id": "87XQrbssbHYG"
      },
      "execution_count": null,
      "outputs": []
    },
    {
      "cell_type": "code",
      "source": [
        "print(len(X))\n",
        "print(len(y))\n",
        "\n",
        "print(X[2][0])"
      ],
      "metadata": {
        "colab": {
          "base_uri": "https://localhost:8080/"
        },
        "id": "yyCVYL-mLhc-",
        "outputId": "a91175a0-1d19-4f1d-8f22-3581b6f59b2d"
      },
      "execution_count": null,
      "outputs": [
        {
          "output_type": "stream",
          "name": "stdout",
          "text": [
            "45190\n",
            "45190\n",
            "2106\n"
          ]
        }
      ]
    },
    {
      "cell_type": "code",
      "source": [
        "print(X.shape)\n",
        "print(y.shape)\n",
        "print(len(X))"
      ],
      "metadata": {
        "colab": {
          "base_uri": "https://localhost:8080/"
        },
        "id": "uNqjNsltbLuU",
        "outputId": "17693ea3-7e5c-47ae-eb26-8ab40e22e8f9"
      },
      "execution_count": null,
      "outputs": [
        {
          "output_type": "stream",
          "name": "stdout",
          "text": [
            "(45190, 1)\n",
            "(45190,)\n",
            "45190\n"
          ]
        }
      ]
    },
    {
      "cell_type": "code",
      "source": [
        "print(X[1][0])"
      ],
      "metadata": {
        "colab": {
          "base_uri": "https://localhost:8080/"
        },
        "id": "fozRN1gVdeoe",
        "outputId": "546cbd73-6117-482e-cfe2-2f181b905842"
      },
      "execution_count": null,
      "outputs": [
        {
          "output_type": "stream",
          "name": "stdout",
          "text": [
            "2278\n"
          ]
        }
      ]
    },
    {
      "cell_type": "code",
      "source": [
        "\n",
        "print(X[2][0], y[2])"
      ],
      "metadata": {
        "colab": {
          "base_uri": "https://localhost:8080/"
        },
        "id": "CTgrF0Zkb6e0",
        "outputId": "b4eef357-c865-4a4c-c535-8b94c0495ea4"
      },
      "execution_count": null,
      "outputs": [
        {
          "output_type": "stream",
          "name": "stdout",
          "text": [
            "2106 0\n"
          ]
        }
      ]
    },
    {
      "cell_type": "code",
      "source": [
        "data_nvs = []\n",
        "label_nvs = []\n",
        "\n",
        "temp_nvs = []\n",
        "\n",
        "for i in range(len(X)-1):\n",
        "  if(y[i+1] == y[i]):\n",
        "    temp_nvs.append(X[i][0])\n",
        "  else :\n",
        "    data_nvs.append(temp_nvs)\n",
        "    label_nvs.append(y[i-1])\n",
        "    temp_nvs = []\n"
      ],
      "metadata": {
        "id": "cM4bfjLNb3Qg"
      },
      "execution_count": null,
      "outputs": []
    },
    {
      "cell_type": "code",
      "source": [
        "print(len(data_nvs), len(label_nvs))"
      ],
      "metadata": {
        "colab": {
          "base_uri": "https://localhost:8080/"
        },
        "id": "5u7JGbVtdALN",
        "outputId": "f7f7e140-36d2-481d-f92c-6ec2043866a7"
      },
      "execution_count": null,
      "outputs": [
        {
          "output_type": "stream",
          "name": "stdout",
          "text": [
            "57 57\n"
          ]
        }
      ]
    },
    {
      "cell_type": "code",
      "source": [
        "print(data_nvs[1])\n",
        "print(type(label_nvs[1]))"
      ],
      "metadata": {
        "colab": {
          "base_uri": "https://localhost:8080/"
        },
        "id": "l83E8uQXMUMn",
        "outputId": "f45b4dfe-aca6-46ae-fe42-185059e1d53c"
      },
      "execution_count": null,
      "outputs": [
        {
          "output_type": "stream",
          "name": "stdout",
          "text": [
            "[2217, 2200, 2213, 2223, 2233, 2248, 2257, 2259, 2275, 2271, 2269, 2265, 2254, 2245, 2239, 2230, 2212, 2208, 2221, 2228, 2240, 2230, 2216, 2196, 2185, 2166, 2173, 2176, 2187, 2202, 2202, 2195, 2198, 2224, 2212, 2224, 2227, 2236, 2274, 2294, 2318, 2338, 2358, 2369, 2384, 2404, 2430, 2437, 2440, 2447, 2444, 2433, 2445, 2440, 2433, 2433, 2431, 2446, 2471, 2479, 2498, 2498, 2502, 2502, 2497, 2494, 2503, 2501, 2501, 2486, 2463, 2442, 2423, 2387, 2357, 2316, 2274, 2244, 2209, 2161, 2133, 2093, 2058, 2031, 2008, 1985, 1967, 1934, 1932, 1921, 1909, 1894, 1869, 1863, 1867, 1840, 1826, 1834, 1831, 1820, 1822, 1812, 1821, 1830, 1851, 1883, 1883, 1882, 1891, 1892, 1895, 1913, 1940, 1954, 1980, 2002, 2029, 2074, 2106, 2138, 2176, 2201, 2239, 2263, 2292, 2321, 2339, 2350, 2374, 2389, 2416, 2447, 2468, 2461, 2482, 2479, 2487, 2484, 2478, 2484, 2490, 2479, 2493, 2495, 2494, 2498, 2483, 2462, 2457, 2432, 2416, 2401, 2393, 2378, 2373, 2363, 2352, 2355, 2351, 2350, 2349, 2330, 2311, 2295, 2270, 2246, 2220, 2188, 2169, 2150, 2129, 2115, 2103, 2096, 2095, 2082, 2077, 2080, 2075, 2083, 2096, 2098, 2104, 2095, 2076, 2058, 2035, 2015, 2019, 2020, 2023, 2030, 2040, 2040, 2045, 2039, 2035, 2035, 2042, 2049, 2062, 2065, 2062, 2066, 2068, 2071, 2084, 2074, 2080, 2069, 2058, 2057, 2047, 2035, 2039, 2030, 2013, 2012, 2001, 1985, 1983, 1984, 1998, 2009, 2024, 2046, 2071, 2073, 2098, 2110, 2127, 2149, 2170, 2186, 2220, 2246, 2280, 2308, 2342, 2355, 2391, 2415, 2450, 2473, 2504, 2544, 2588, 2615, 2663, 2691, 2718, 2740, 2749, 2773, 2801, 2814, 2840, 2864, 2877, 2899, 2919, 2928, 2945, 2947, 2953, 2968, 2975, 2986, 3000, 3001, 3015, 3024, 3030, 3049, 3058, 3047, 3048, 3032, 3004, 2996, 2977, 2939, 2914, 2862, 2810, 2756, 2681, 2607, 2520, 2407, 2302, 2188, 2084, 1977, 1876, 1756, 1646, 1519, 1394, 1273, 1144, 1019, 903, 780, 685, 578, 484, 384, 286, 197, 112, 19, 0, 0, 0, 0, 0, 0, 0, 0, 0, 0, 0, 0, 0, 0, 0, 0, 0, 0, 0, 0, 0, 0, 0, 0, 11, 39, 84, 126, 170, 211, 258, 291, 344, 393, 441, 499, 551, 586, 627, 654, 695, 745, 807, 867, 939, 1008, 1095, 1197, 1290, 1393, 1514, 1640, 1782, 1928, 2100, 2295, 2505, 2719, 2960, 3217, 3494, 3804, 4042, 4056, 4048, 4047, 4049, 4052, 4041, 4053, 4030, 4042, 4044, 4049, 4047, 4053, 4037, 4058, 4048, 4046, 4050, 4045, 4037, 4075, 4034, 4048, 4043, 4046, 4041, 4052, 4046, 4046, 4038, 4038, 4043, 4036, 4047, 4057, 4031, 4047, 4042, 4033, 4043, 4040, 4035, 4046, 4035, 4037, 4038, 4038, 4042, 4047, 4035, 4042, 4042, 4038, 4046, 4042, 4033, 4045, 4028, 4034, 4042, 4043, 4039, 4044, 4037, 4055, 4041, 4037, 4044, 4043, 4037, 4042, 4041, 4035, 4046, 4037, 4039, 4047, 4037, 4051, 4043, 4038, 4043, 4047, 4038, 4045, 4041, 4036, 4049, 4042, 4038, 4043, 4046, 4038, 4051, 4048, 4033, 4044, 4055, 4031, 3642, 3217, 2905, 2674, 2512, 2377, 2243, 2170, 2115, 2068, 2045, 2015, 1991, 1985, 1979, 1961, 1947, 1919, 1895, 1874, 1855, 1841, 1833, 1816, 1821, 1822, 1812, 1810, 1806, 1797, 1793, 1768, 1764, 1775, 1781, 1796, 1795, 1793, 1806, 1791, 1781, 1775, 1778, 1763, 1760, 1754, 1751, 1746, 1735, 1715, 1725, 1720, 1722, 1714, 1700, 1695, 1696, 1681, 1677, 1666, 1656, 1659, 1655, 1646, 1646, 1643, 1641, 1642, 1644, 1648, 1656, 1647, 1653, 1736, 1648, 1637, 1621, 1602, 1606, 1593, 1599, 1602, 1599, 1605, 1616, 1605, 1607, 1603, 1599, 1610, 1606, 1585, 1589, 1588, 1594, 1608, 1617, 1623, 1634, 1623, 1624, 1625, 1627, 1637, 1641, 1628, 1632, 1624, 1611, 1613, 1623, 1612, 1622, 1629, 1625, 1637, 1641, 1638, 1649, 1659, 1673, 1692, 1686, 1692, 1712, 1720, 1729, 1736, 1731, 1731, 1736, 1730, 1731, 1731, 1729, 1730, 1734, 1746, 1759, 1769, 1768, 1771, 1782, 1781, 1793, 1795, 1796, 1806, 1806, 1806, 1821, 1816, 1817, 1827, 1830, 1833, 1841, 1830, 1832, 1836, 1846, 1877, 1894, 1899, 1919, 1919, 1930, 1936, 1946, 1942, 1946, 1949, 1946, 1942, 1938, 1940, 1943, 1951, 1955, 1956, 1962, 1955, 1956, 1953, 1951, 1959, 1970, 1978, 1989, 1987, 1988, 1985, 1980, 1977, 1984, 1975, 1982, 1980, 1977, 1976, 1973, 1967, 1965, 1954, 1947, 1947, 1964, 1957, 1961, 1959, 1954, 1957, 1953, 1958, 1975, 1974, 1977, 1984, 1994, 1997, 2013, 2018, 2029, 2033, 2021, 2024, 2030, 2034, 2052, 2056, 2057, 2052, 2055, 2049, 2058, 2048, 2053, 2055, 2047, 2042]\n",
            "<class 'str'>\n"
          ]
        }
      ]
    },
    {
      "cell_type": "code",
      "source": [
        "print(label[1])\n",
        "print(data[1])"
      ],
      "metadata": {
        "colab": {
          "base_uri": "https://localhost:8080/"
        },
        "id": "AzXXRD5jfuxa",
        "outputId": "02290313-407c-4793-9ca1-dac55f49eccf"
      },
      "execution_count": null,
      "outputs": [
        {
          "output_type": "stream",
          "name": "stdout",
          "text": [
            "id2\n",
            "[2269, 2281, 2264, 2268, 2273, 2275, 2272, 2274, 2268, 2270, 2267, 2250, 2240, 2237, 2230, 2230, 2215, 2202, 2204, 2192, 2167, 2144, 2134, 2096, 2077, 2085, 2066, 2068, 2068, 2069, 2061, 2052, 2061, 2047, 2042, 2034, 2040, 2034, 2027, 2011, 1999, 1993, 1975, 1952, 1927, 1890, 1858, 1830, 1789, 1750, 1715, 1684, 1661, 1648, 1623, 1609, 1563, 1559, 1527, 1502, 1476, 1456, 1425, 1376, 1335, 1288, 1243, 1223, 1194, 1167, 1124, 1086, 1056, 1057, 1012, 999, 991, 1011, 1036, 1052, 1089, 1131, 1176, 1228, 1312, 1395, 1499, 1627, 1759, 1909, 2070, 2259, 2460, 2677, 2913, 3160, 3403, 3648, 3895, 4058, 4069, 4057, 4069, 4061, 4065, 4057, 4072, 4051, 4071, 4055, 4053, 4055, 4074, 4050, 3615, 3113, 2699, 2354, 2066, 1821, 1599, 1457, 1328, 1246, 1201, 1206, 1248, 1322, 1426, 1570, 1720, 1909, 2098, 2282, 2496, 2633, 2774, 2887, 2969, 3017, 3034, 3009, 2938, 2843, 2721, 2598, 2476, 2358, 2239, 2135, 2038, 1969, 1911, 1876, 1857, 1868, 1868, 1897, 1927, 1970, 2014, 2099, 2158, 2232, 2290, 2365, 2437, 2503, 2566, 2651, 2717, 2819, 2899, 2973, 3040, 3090, 3126, 3154, 3164, 3176, 3192, 3195, 3194, 3192, 3170, 3130, 3104, 3045, 2984, 2904, 2799, 2688, 2568, 2439, 2327, 2218, 2096, 1989, 1881, 1771, 1682, 1584, 1515, 1431, 1361, 1314, 1261, 1210, 1164, 1123, 1087, 1064, 1043, 1032, 1036, 1032, 1057, 1091, 1115, 1160, 1184, 1206, 1240, 1272, 1303, 1337, 1365, 1394, 1423, 1452, 1483, 1518, 1549, 1587, 1624, 1661, 1694, 1739, 1776, 1821, 1861, 1897, 1939, 1979, 2019, 2071, 2117, 2168, 2216, 2256, 2307, 2369, 2419, 2494, 2557, 2626, 2702, 2784, 2852, 2934, 2998, 3082, 3153, 3231, 3289, 3360, 3408, 3455, 3492, 3522, 3526, 3547, 3552, 3552, 3543, 3518, 3492, 3431, 3407, 3361, 3290, 3219, 3147, 3077, 2986, 2903, 2809, 2724, 2648, 2579, 2510, 2452, 2383, 2321, 2247, 2176, 2114, 2066, 2024, 1987, 1954, 1893, 1855, 1822, 1789, 1788, 1762, 1770, 1751, 1749, 1751, 1735, 1745, 1752, 1763, 1780, 1812, 1836, 1865, 1892, 1919, 1958, 2010, 2065, 2126, 2182, 2236, 2292, 2348, 2401, 2451, 2502, 2540, 2586, 2636, 2670, 2717, 2759, 2804, 2839, 2862, 2904, 2939, 2958, 2979, 2984, 2995, 3010, 3015, 3007, 2998, 2982, 2963, 2934, 2897, 2864, 2835, 2805, 2778, 2743, 2697, 2656, 2632, 2570, 2527, 2466, 2424, 2379, 2339, 2313, 2283, 2254, 2240, 2209, 2181, 2157, 2151, 2134, 2124, 2109, 2107, 2107, 2110, 2121, 2142, 2161, 2190, 2210, 2226, 2232, 2258, 2283, 2290, 2307, 2287, 2342, 2365, 2392, 2405, 2437, 2469, 2497, 2539, 2568, 2604, 2642, 2676, 2718, 2742, 2768, 2794, 2840, 2836, 2849, 2848, 2853, 2862, 2870, 2880, 2893, 2897, 2902, 2918, 2931, 2946, 2958, 2962, 2975, 2974, 2972, 2968, 2965, 2948, 2940, 2933, 2923, 2932, 2925, 2892, 2882, 2852, 2825, 2815, 2800, 2786, 2779, 2763, 2753, 2729, 2696, 2668, 2651, 2626, 2612, 2592, 2572, 2542, 2514, 2480, 2457, 2427, 2400, 2373, 2338, 2310, 2269, 2222, 2201, 2164, 2127, 2108, 2056, 2035, 2018, 1992, 1952, 1927, 1910, 1862, 1836, 1800, 1784, 1746, 1711, 1692, 1657, 1633, 1612, 1577, 1554, 1547, 1550, 1543, 1543, 1540, 1529, 1529, 1525, 1531, 1534, 1530, 1519, 1523, 1517, 1531, 1535, 1545, 1567, 1594, 1584, 1599, 1607, 1622, 1636, 1639, 1655, 1649, 1653, 1654, 1667, 1675, 1685, 1700, 1714, 1728, 1746, 1746, 1767, 1787, 1801, 1824, 1840, 1858, 1887, 1907, 1919, 1943, 1951, 1982, 1989, 1999, 2005, 1999, 2021, 2044, 2079, 2083, 2097, 2109, 2125, 2150, 2161, 2178, 2190, 2194, 2205, 2205, 2202, 2208, 2214, 2233, 2262, 2283, 2308, 2336, 2348, 2345, 2352, 2360, 2373, 2382]\n"
          ]
        }
      ]
    },
    {
      "cell_type": "code",
      "source": [
        "import pickle"
      ],
      "metadata": {
        "id": "JIL4YrYDMH9Y"
      },
      "execution_count": null,
      "outputs": []
    },
    {
      "cell_type": "code",
      "source": [
        "import pickle\n",
        "\n",
        "pickle_out = open(\"data.pickle\",\"wb\")\n",
        "pickle.dump(data, pickle_out)\n",
        "pickle_out.close()\n",
        "\n",
        "pickle_out = open(\"label.pickle\",\"wb\")\n",
        "pickle.dump(label, pickle_out)\n",
        "pickle_out.close()"
      ],
      "metadata": {
        "id": "nph_ss7Mgc-z"
      },
      "execution_count": null,
      "outputs": []
    },
    {
      "cell_type": "code",
      "source": [
        "import pickle\n",
        "pickle_in = open(\"data.pickle\",\"rb\")\n",
        "data = pickle.load(pickle_in)\n",
        "\n",
        "pickle_in = open(\"label.pickle\",\"rb\")\n",
        "label = pickle.load(pickle_in)"
      ],
      "metadata": {
        "id": "zAZ-y91chA25"
      },
      "execution_count": null,
      "outputs": []
    },
    {
      "cell_type": "code",
      "source": [
        "for i in range(len(data)):\n",
        "  print(i, len(data[i]))\n"
      ],
      "metadata": {
        "id": "BKoUEPaKhIAp"
      },
      "execution_count": null,
      "outputs": []
    },
    {
      "cell_type": "code",
      "source": [
        "print(data[27])\n",
        "print(label[27])\n",
        "print(len(data), len(label))"
      ],
      "metadata": {
        "colab": {
          "base_uri": "https://localhost:8080/"
        },
        "id": "36krE2UaKmMR",
        "outputId": "e379dcc5-0732-4335-f159-8232859db102"
      },
      "execution_count": null,
      "outputs": [
        {
          "output_type": "stream",
          "name": "stdout",
          "text": [
            "[2181, 2171, 2181, 2178, 2175, 2162, 2150, 2131, 2107, 2089, 2075, 2043, 2015, 1989, 1964, 1917, 1885, 1839, 1802, 1754, 1709, 1656, 1601, 1535, 1464, 1405, 1344, 1267, 1209, 1140, 1069, 985, 910, 832, 740, 645, 542, 434, 302, 184, 66, 0, 0, 0, 0, 0, 0, 0, 15, 0, 0, 0, 0, 0, 0, 0, 0, 0, 0, 0, 0, 0, 0, 2, 121, 315, 543, 826, 1126, 1462, 1804, 2139, 2457, 2777, 3081, 3364, 3628, 3884, 4055, 4055, 4050, 4055, 4059, 4055, 4055, 4057, 4047, 4053, 4053, 4055, 4047, 4044, 4058, 4070, 4054, 4057, 4049, 4050, 4055, 4049, 4047, 4056, 4045, 4055, 4051, 4059, 4054, 4053, 4063, 4058, 4051, 4057, 4058, 4051, 4049, 4057, 4053, 4055, 4068, 4047, 4051, 4057, 3819, 3413, 3132, 2932, 2788, 2699, 2644, 2613, 2579, 2559, 2554, 2556, 2560, 2566, 2570, 2547, 2536, 2514, 2509, 2500, 2489, 2484, 2483, 2466, 2456, 2434, 2417, 2394, 2379, 2347, 2346, 2343, 2340, 2330, 2317, 2310, 2309, 2299, 2333, 2299, 2292, 2291, 2285, 2268, 2262, 2245, 2249, 2255, 2269, 2260, 2253, 2243, 2210, 2193, 2177, 2167, 2149, 2132, 2094, 2071, 2041, 2016, 1990, 1961, 1938, 1912, 1892, 1867, 1830, 1800, 1766, 1725, 1664, 1657, 1624, 1588, 1555, 1517, 1497, 1453, 1411, 1380, 1351, 1308, 1270, 1210, 1187, 1154, 1131, 1131, 1121, 1103, 1095, 1073, 1049, 1025, 1021, 994, 975, 957, 933, 923, 915, 912, 921, 937, 948, 963, 977, 979, 1016, 1032, 1057, 1077, 1103, 1137, 1163, 1207, 1246, 1271, 1299, 1339, 1389, 1445, 1493, 1535, 1562, 1626, 1663, 1698, 1744, 1782, 1821, 1859, 1894, 1935, 1974, 2009, 2050, 2101, 2132, 2162, 2196, 2238, 2294, 2341, 2398, 2429, 2459, 2489, 2522, 2542, 2570, 2593, 2616, 2641, 2653, 2691, 2732, 2770, 2815, 2823, 2844, 2866, 2878, 2892, 2917, 2929, 2943, 2956, 2973, 2972, 2972, 2968, 2981, 2988, 2984, 2980, 2985, 2979, 2979, 2980, 2979, 2982, 2974, 2955, 2947, 2938, 2914, 2904, 2891, 2903, 2910, 2894, 2905, 2913, 2907, 2895, 2902, 2884, 2862, 2829, 2826, 2821, 2806, 2812, 2807, 2780, 2783, 2769, 2761, 2772, 2749, 2735, 2731, 2736, 2722, 2706, 2688, 2673, 2660, 2647, 2653, 2650, 2640, 2631, 2615, 2582, 2571, 2539, 2524, 2495, 2492, 2473, 2464, 2442, 2433, 2428, 2417, 2401, 2392, 2371, 2351, 2336, 2312, 2295, 2285, 2260, 2251, 2244, 2218, 2204, 2194, 2181, 2175, 2174, 2173, 2182, 2188, 2180, 2170, 2138, 2114, 2097, 2088, 2092, 2100, 2087, 2089, 2073, 2062, 2060, 2078, 2061, 2056, 2057, 2060, 2068, 2079, 2094, 2109, 2116, 2145, 2180, 2210, 2249, 2280, 2318, 2354, 2395, 2412, 2444, 2469, 2498, 2530, 2553, 2599, 2646, 2690, 2730, 2783, 2824, 2874, 2929, 2974, 3025, 3080, 3111, 3164, 3204, 3252, 3303, 3352, 3396, 3453, 3510, 3563, 3611, 3649, 3686, 3719, 3734, 3746, 3775, 3775, 3774, 3748, 3736, 3729, 3714, 3728, 3675, 3648, 3599, 3590, 3548, 3500, 3450, 3398, 3346, 3295, 3235, 3177, 3103, 3032, 2922, 2842, 2760, 2687, 2612, 2538, 2468, 2408, 2328, 2258, 2195, 2138, 2078, 2011, 1944, 1885, 1813, 1738, 1670, 1595, 1529, 1460, 1388, 1326, 1251, 1197, 1148, 1098, 1055, 1015, 958, 901, 854, 821, 795, 771, 750, 735, 721, 708, 694, 694, 679, 680, 696, 720, 754, 790, 832, 877, 927, 970, 1042, 1103, 1181, 1257, 1337, 1429, 1508, 1610, 1712, 1815, 1907, 2010, 2110, 2199, 2300, 2398, 2497, 2600, 2674, 2783, 2866, 2939, 3025, 3105, 3187, 3269, 3335, 3415, 3491, 3547, 3600, 3644, 3670, 3671, 3693, 3696, 3703, 3691, 3655, 3602, 3529, 3441, 3351, 3249, 3137, 3017, 2887, 2766, 2649, 2524, 2407, 2289, 2162, 2042, 1914, 1791, 1664, 1561, 1444, 1337, 1235, 1129, 1034, 923, 818, 711, 610, 501, 399, 303, 215, 141]\n",
            "id3\n",
            "75 75\n"
          ]
        }
      ]
    },
    {
      "cell_type": "code",
      "source": [
        "import numpy as np\n",
        "import matplotlib.pyplot as plt\n",
        "\n",
        "plt.plot(np.array(data_nvs[5]))\n",
        "print(label_nvs[5])\n",
        "plt.show()"
      ],
      "metadata": {
        "colab": {
          "base_uri": "https://localhost:8080/",
          "height": 282
        },
        "id": "7u9MrrntK9NQ",
        "outputId": "3cd477e2-aedb-42ea-9203-7ab479100327"
      },
      "execution_count": null,
      "outputs": [
        {
          "output_type": "stream",
          "name": "stdout",
          "text": [
            "1\n"
          ]
        },
        {
          "output_type": "display_data",
          "data": {
            "text/plain": [
              "<Figure size 432x288 with 1 Axes>"
            ],
            "image/png": "[encoded data removed]"
          },
          "metadata": {
            "needs_background": "light"
          }
        }
      ]
    },
    {
      "cell_type": "code",
      "source": [
        "!pip install scipy"
      ],
      "metadata": {
        "colab": {
          "base_uri": "https://localhost:8080/"
        },
        "id": "S8y58wNtMOr9",
        "outputId": "c54a8a50-bd68-4e04-d41d-0c802589b6cc"
      },
      "execution_count": null,
      "outputs": [
        {
          "output_type": "stream",
          "name": "stdout",
          "text": [
            "Looking in indexes: https://pypi.org/simple, https://us-python.pkg.dev/colab-wheels/public/simple/\n",
            "Requirement already satisfied: scipy in /usr/local/lib/python3.7/dist-packages (1.7.3)\n",
            "Requirement already satisfied: numpy<1.23.0,>=1.16.5 in /usr/local/lib/python3.7/dist-packages (from scipy) (1.21.6)\n"
          ]
        }
      ]
    },
    {
      "cell_type": "code",
      "source": [
        "from scipy import signal\n",
        "import matplotlib.pyplot as plt\n",
        "from scipy.fft import fftshift\n",
        "import numpy as np\n",
        "\n",
        "f, t, Sxx = signal.spectrogram(np.array(data1[1]), window='hamming' , 100, return_onesided=False)\n",
        "\n",
        "plt.pcolormesh(t, fftshift(f), fftshift(Sxx, axes=0), shading='gouraud' )\n",
        "plt.ylabel('Frequency [Hz]')\n",
        "plt.xlabel('Time [sec]')\n",
        "plt.show()"
      ],
      "metadata": {
        "colab": {
          "base_uri": "https://localhost:8080/",
          "height": 279
        },
        "id": "X05f-5wpMlzO",
        "outputId": "c6c981a0-96dc-4497-f674-d1d94336aa9e"
      },
      "execution_count": null,
      "outputs": [
        {
          "output_type": "display_data",
          "data": {
            "text/plain": [
              "<Figure size 432x288 with 1 Axes>"
            ],
            "image/png": "[encoded data removed]"
          },
          "metadata": {
            "needs_background": "light"
          }
        }
      ]
    },
    {
      "cell_type": "code",
      "source": [
        "f, t, Sxx = signal.spectrogram(np.array(data1[1]), 100)\n",
        "plt.figure(figsize=(8,10))\n",
        "plt.pcolormesh(t, f, Sxx, shading='gouraud')\n",
        "plt.ylabel('Frequency [Hz]')\n",
        "plt.xlabel('Time [sec]')\n",
        "plt.show()"
      ],
      "metadata": {
        "colab": {
          "base_uri": "https://localhost:8080/",
          "height": 610
        },
        "id": "x9jrYSThTLdg",
        "outputId": "b7c27bcc-7b80-460a-81df-feb7cf819f80"
      },
      "execution_count": null,
      "outputs": [
        {
          "output_type": "display_data",
          "data": {
            "text/plain": [
              "<Figure size 576x720 with 1 Axes>"
            ],
            "image/png": "[encoded data removed]"
          },
          "metadata": {
            "needs_background": "light"
          }
        }
      ]
    },
    {
      "cell_type": "code",
      "source": [
        "print(f)"
      ],
      "metadata": {
        "colab": {
          "base_uri": "https://localhost:8080/"
        },
        "id": "0lQh9LumTa2o",
        "outputId": "095b1f2c-f170-472c-e3a8-c77301499f0b"
      },
      "execution_count": null,
      "outputs": [
        {
          "output_type": "stream",
          "name": "stdout",
          "text": [
            "[  0.         0.390625   0.78125    1.171875   1.5625     1.953125\n",
            "   2.34375    2.734375   3.125      3.515625   3.90625    4.296875\n",
            "   4.6875     5.078125   5.46875    5.859375   6.25       6.640625\n",
            "   7.03125    7.421875   7.8125     8.203125   8.59375    8.984375\n",
            "   9.375      9.765625  10.15625   10.546875  10.9375    11.328125\n",
            "  11.71875   12.109375  12.5       12.890625  13.28125   13.671875\n",
            "  14.0625    14.453125  14.84375   15.234375  15.625     16.015625\n",
            "  16.40625   16.796875  17.1875    17.578125  17.96875   18.359375\n",
            "  18.75      19.140625  19.53125   19.921875  20.3125    20.703125\n",
            "  21.09375   21.484375  21.875     22.265625  22.65625   23.046875\n",
            "  23.4375    23.828125  24.21875   24.609375  25.        25.390625\n",
            "  25.78125   26.171875  26.5625    26.953125  27.34375   27.734375\n",
            "  28.125     28.515625  28.90625   29.296875  29.6875    30.078125\n",
            "  30.46875   30.859375  31.25      31.640625  32.03125   32.421875\n",
            "  32.8125    33.203125  33.59375   33.984375  34.375     34.765625\n",
            "  35.15625   35.546875  35.9375    36.328125  36.71875   37.109375\n",
            "  37.5       37.890625  38.28125   38.671875  39.0625    39.453125\n",
            "  39.84375   40.234375  40.625     41.015625  41.40625   41.796875\n",
            "  42.1875    42.578125  42.96875   43.359375  43.75      44.140625\n",
            "  44.53125   44.921875  45.3125    45.703125  46.09375   46.484375\n",
            "  46.875     47.265625  47.65625   48.046875  48.4375    48.828125\n",
            "  49.21875   49.609375 -50.       -49.609375 -49.21875  -48.828125\n",
            " -48.4375   -48.046875 -47.65625  -47.265625 -46.875    -46.484375\n",
            " -46.09375  -45.703125 -45.3125   -44.921875 -44.53125  -44.140625\n",
            " -43.75     -43.359375 -42.96875  -42.578125 -42.1875   -41.796875\n",
            " -41.40625  -41.015625 -40.625    -40.234375 -39.84375  -39.453125\n",
            " -39.0625   -38.671875 -38.28125  -37.890625 -37.5      -37.109375\n",
            " -36.71875  -36.328125 -35.9375   -35.546875 -35.15625  -34.765625\n",
            " -34.375    -33.984375 -33.59375  -33.203125 -32.8125   -32.421875\n",
            " -32.03125  -31.640625 -31.25     -30.859375 -30.46875  -30.078125\n",
            " -29.6875   -29.296875 -28.90625  -28.515625 -28.125    -27.734375\n",
            " -27.34375  -26.953125 -26.5625   -26.171875 -25.78125  -25.390625\n",
            " -25.       -24.609375 -24.21875  -23.828125 -23.4375   -23.046875\n",
            " -22.65625  -22.265625 -21.875    -21.484375 -21.09375  -20.703125\n",
            " -20.3125   -19.921875 -19.53125  -19.140625 -18.75     -18.359375\n",
            " -17.96875  -17.578125 -17.1875   -16.796875 -16.40625  -16.015625\n",
            " -15.625    -15.234375 -14.84375  -14.453125 -14.0625   -13.671875\n",
            " -13.28125  -12.890625 -12.5      -12.109375 -11.71875  -11.328125\n",
            " -10.9375   -10.546875 -10.15625   -9.765625  -9.375     -8.984375\n",
            "  -8.59375   -8.203125  -7.8125    -7.421875  -7.03125   -6.640625\n",
            "  -6.25      -5.859375  -5.46875   -5.078125  -4.6875    -4.296875\n",
            "  -3.90625   -3.515625  -3.125     -2.734375  -2.34375   -1.953125\n",
            "  -1.5625    -1.171875  -0.78125   -0.390625]\n"
          ]
        }
      ]
    },
    {
      "cell_type": "code",
      "source": [
        "from librosa.display import specshow\n",
        "from librosa.core import stft, amplitude_to_db\n",
        "\n",
        "\n",
        "# Convert into decibels\n",
        "spec_db = amplitude_to_db(np.array(data1[1]))\n"
      ],
      "metadata": {
        "id": "DsHY0zHjR-vq"
      },
      "execution_count": null,
      "outputs": []
    },
    {
      "cell_type": "code",
      "source": [
        "for i in range(len(data)):\n",
        "  print(i, len(data[i]), label[i])\n",
        " \n"
      ],
      "metadata": {
        "colab": {
          "base_uri": "https://localhost:8080/"
        },
        "id": "m-KoxSbwNsYg",
        "outputId": "4590fbef-3ef2-4e79-c216-8f238ef22e70"
      },
      "execution_count": null,
      "outputs": [
        {
          "output_type": "stream",
          "name": "stdout",
          "text": [
            "0 1713 id0\n",
            "1 571 id2\n",
            "2 629 id3\n",
            "3 463 id0\n",
            "4 521 id2\n",
            "5 320 id0\n",
            "6 578 id3\n",
            "7 597 id0\n",
            "8 2977 id7\n",
            "9 482 id2\n",
            "10 671 id8\n",
            "11 1992 id0\n",
            "12 1276 id9\n",
            "13 510 id15\n",
            "14 2037 id0\n",
            "15 328 id2\n",
            "16 3615 id4\n",
            "17 1753 id10\n",
            "18 581 id11\n",
            "19 2121 id10\n",
            "20 3249 id8\n",
            "21 3694 id1\n",
            "22 528 id8\n",
            "23 1560 id8\n",
            "24 517 id14\n",
            "25 366 id8\n",
            "26 351 id2\n",
            "27 591 id3\n",
            "28 568 id0\n",
            "29 1746 id6\n",
            "30 339 id3\n",
            "31 736 id0\n",
            "32 470 id1\n",
            "33 644 id8\n",
            "34 417 id0\n",
            "35 1790 id10\n",
            "36 433 id11\n",
            "37 338 id1\n",
            "38 2717 id13\n",
            "39 570 id8\n",
            "40 331 id3\n",
            "41 436 id10\n",
            "42 1145 id13\n",
            "43 413 id13\n",
            "44 450 id13\n",
            "45 1077 id0\n",
            "46 309 id2\n",
            "47 1646 id13\n",
            "48 798 id0\n",
            "49 312 id3\n",
            "50 481 id0\n",
            "51 311 id2\n",
            "52 473 id0\n",
            "53 613 id3\n",
            "54 578 id0\n",
            "55 396 id0\n",
            "56 612 id3\n",
            "57 516 id0\n",
            "58 382 id2\n",
            "59 435 id2\n",
            "60 397 id3\n",
            "61 3746 id0\n",
            "62 864 id7\n",
            "63 4057 id0\n",
            "64 706 id6\n",
            "65 492 id0\n",
            "66 402 id0\n",
            "67 579 id0\n",
            "68 382 id2\n",
            "69 300 id3\n",
            "70 874 id0\n",
            "71 314 id2\n",
            "72 918 id0\n",
            "73 1123 id6\n",
            "74 592 id1\n"
          ]
        }
      ]
    },
    {
      "cell_type": "code",
      "source": [
        "\n",
        "# preprocessing data\n",
        "\n",
        "for i in range(len(data)):\n",
        "  if(len(data[i]) < 300):\n",
        "    data.pop(i)\n",
        "    label.pop(i)"
      ],
      "metadata": {
        "id": "EVmpKrEmM9_Z"
      },
      "execution_count": null,
      "outputs": []
    },
    {
      "cell_type": "code",
      "source": [
        "for i in range(len(data)):\n",
        "  print(i, len(data[i]), label[i])"
      ],
      "metadata": {
        "colab": {
          "base_uri": "https://localhost:8080/"
        },
        "id": "Ltek9P8NORp5",
        "outputId": "44d7bec6-0b70-48c1-ab6a-911d5c8301e3"
      },
      "execution_count": null,
      "outputs": [
        {
          "output_type": "stream",
          "name": "stdout",
          "text": [
            "0 1713 id0\n",
            "1 571 id2\n",
            "2 629 id3\n",
            "3 463 id0\n",
            "4 521 id2\n",
            "5 320 id0\n",
            "6 578 id3\n",
            "7 597 id0\n",
            "8 2977 id7\n",
            "9 482 id2\n",
            "10 671 id8\n",
            "11 1992 id0\n",
            "12 1276 id9\n",
            "13 510 id15\n",
            "14 2037 id0\n",
            "15 328 id2\n",
            "16 3615 id4\n",
            "17 1753 id10\n",
            "18 581 id11\n",
            "19 2121 id10\n",
            "20 3249 id8\n",
            "21 3694 id1\n",
            "22 528 id8\n",
            "23 1560 id8\n",
            "24 517 id14\n",
            "25 366 id8\n",
            "26 351 id2\n",
            "27 591 id3\n",
            "28 568 id0\n",
            "29 1746 id6\n",
            "30 339 id3\n",
            "31 736 id0\n",
            "32 470 id1\n",
            "33 644 id8\n",
            "34 417 id0\n",
            "35 1790 id10\n",
            "36 433 id11\n",
            "37 338 id1\n",
            "38 2717 id13\n",
            "39 570 id8\n",
            "40 331 id3\n",
            "41 436 id10\n",
            "42 1145 id13\n",
            "43 413 id13\n",
            "44 450 id13\n",
            "45 1077 id0\n",
            "46 309 id2\n",
            "47 1646 id13\n",
            "48 798 id0\n",
            "49 312 id3\n",
            "50 481 id0\n",
            "51 311 id2\n",
            "52 473 id0\n",
            "53 613 id3\n",
            "54 578 id0\n",
            "55 396 id0\n",
            "56 612 id3\n",
            "57 516 id0\n",
            "58 382 id2\n",
            "59 435 id2\n",
            "60 397 id3\n",
            "61 3746 id0\n",
            "62 864 id7\n",
            "63 4057 id0\n",
            "64 706 id6\n",
            "65 492 id0\n",
            "66 402 id0\n",
            "67 579 id0\n",
            "68 382 id2\n",
            "69 300 id3\n",
            "70 874 id0\n",
            "71 314 id2\n",
            "72 918 id0\n",
            "73 1123 id6\n",
            "74 592 id1\n"
          ]
        }
      ]
    },
    {
      "cell_type": "code",
      "source": [
        "count  = 0\n",
        "for i in range(len(data)):\n",
        "  if(label[i] != 'id0'):\n",
        "    count = count+1\n",
        "print(count)\n",
        "print(len(data), len(label))"
      ],
      "metadata": {
        "colab": {
          "base_uri": "https://localhost:8080/"
        },
        "id": "Q9KXchq1OpGB",
        "outputId": "f55b6fa2-3774-4d19-b9f1-f8cdadaf7973"
      },
      "execution_count": null,
      "outputs": [
        {
          "output_type": "stream",
          "name": "stdout",
          "text": [
            "52\n",
            "75 75\n"
          ]
        }
      ]
    },
    {
      "cell_type": "code",
      "source": [
        "print(data[1])\n",
        "print(data[1][2])"
      ],
      "metadata": {
        "colab": {
          "base_uri": "https://localhost:8080/"
        },
        "id": "GhPfjqx3Wckh",
        "outputId": "f3338800-fcab-423f-c68e-ce57478c4ce0"
      },
      "execution_count": null,
      "outputs": [
        {
          "output_type": "stream",
          "name": "stdout",
          "text": [
            "[2269, 2281, 2264, 2268, 2273, 2275, 2272, 2274, 2268, 2270, 2267, 2250, 2240, 2237, 2230, 2230, 2215, 2202, 2204, 2192, 2167, 2144, 2134, 2096, 2077, 2085, 2066, 2068, 2068, 2069, 2061, 2052, 2061, 2047, 2042, 2034, 2040, 2034, 2027, 2011, 1999, 1993, 1975, 1952, 1927, 1890, 1858, 1830, 1789, 1750, 1715, 1684, 1661, 1648, 1623, 1609, 1563, 1559, 1527, 1502, 1476, 1456, 1425, 1376, 1335, 1288, 1243, 1223, 1194, 1167, 1124, 1086, 1056, 1057, 1012, 999, 991, 1011, 1036, 1052, 1089, 1131, 1176, 1228, 1312, 1395, 1499, 1627, 1759, 1909, 2070, 2259, 2460, 2677, 2913, 3160, 3403, 3648, 3895, 4058, 4069, 4057, 4069, 4061, 4065, 4057, 4072, 4051, 4071, 4055, 4053, 4055, 4074, 4050, 3615, 3113, 2699, 2354, 2066, 1821, 1599, 1457, 1328, 1246, 1201, 1206, 1248, 1322, 1426, 1570, 1720, 1909, 2098, 2282, 2496, 2633, 2774, 2887, 2969, 3017, 3034, 3009, 2938, 2843, 2721, 2598, 2476, 2358, 2239, 2135, 2038, 1969, 1911, 1876, 1857, 1868, 1868, 1897, 1927, 1970, 2014, 2099, 2158, 2232, 2290, 2365, 2437, 2503, 2566, 2651, 2717, 2819, 2899, 2973, 3040, 3090, 3126, 3154, 3164, 3176, 3192, 3195, 3194, 3192, 3170, 3130, 3104, 3045, 2984, 2904, 2799, 2688, 2568, 2439, 2327, 2218, 2096, 1989, 1881, 1771, 1682, 1584, 1515, 1431, 1361, 1314, 1261, 1210, 1164, 1123, 1087, 1064, 1043, 1032, 1036, 1032, 1057, 1091, 1115, 1160, 1184, 1206, 1240, 1272, 1303, 1337, 1365, 1394, 1423, 1452, 1483, 1518, 1549, 1587, 1624, 1661, 1694, 1739, 1776, 1821, 1861, 1897, 1939, 1979, 2019, 2071, 2117, 2168, 2216, 2256, 2307, 2369, 2419, 2494, 2557, 2626, 2702, 2784, 2852, 2934, 2998, 3082, 3153, 3231, 3289, 3360, 3408, 3455, 3492, 3522, 3526, 3547, 3552, 3552, 3543, 3518, 3492, 3431, 3407, 3361, 3290, 3219, 3147, 3077, 2986, 2903, 2809, 2724, 2648, 2579, 2510, 2452, 2383, 2321, 2247, 2176, 2114, 2066, 2024, 1987, 1954, 1893, 1855, 1822, 1789, 1788, 1762, 1770, 1751, 1749, 1751, 1735, 1745, 1752, 1763, 1780, 1812, 1836, 1865, 1892, 1919, 1958, 2010, 2065, 2126, 2182, 2236, 2292, 2348, 2401, 2451, 2502, 2540, 2586, 2636, 2670, 2717, 2759, 2804, 2839, 2862, 2904, 2939, 2958, 2979, 2984, 2995, 3010, 3015, 3007, 2998, 2982, 2963, 2934, 2897, 2864, 2835, 2805, 2778, 2743, 2697, 2656, 2632, 2570, 2527, 2466, 2424, 2379, 2339, 2313, 2283, 2254, 2240, 2209, 2181, 2157, 2151, 2134, 2124, 2109, 2107, 2107, 2110, 2121, 2142, 2161, 2190, 2210, 2226, 2232, 2258, 2283, 2290, 2307, 2287, 2342, 2365, 2392, 2405, 2437, 2469, 2497, 2539, 2568, 2604, 2642, 2676, 2718, 2742, 2768, 2794, 2840, 2836, 2849, 2848, 2853, 2862, 2870, 2880, 2893, 2897, 2902, 2918, 2931, 2946, 2958, 2962, 2975, 2974, 2972, 2968, 2965, 2948, 2940, 2933, 2923, 2932, 2925, 2892, 2882, 2852, 2825, 2815, 2800, 2786, 2779, 2763, 2753, 2729, 2696, 2668, 2651, 2626, 2612, 2592, 2572, 2542, 2514, 2480, 2457, 2427, 2400, 2373, 2338, 2310, 2269, 2222, 2201, 2164, 2127, 2108, 2056, 2035, 2018, 1992, 1952, 1927, 1910, 1862, 1836, 1800, 1784, 1746, 1711, 1692, 1657, 1633, 1612, 1577, 1554, 1547, 1550, 1543, 1543, 1540, 1529, 1529, 1525, 1531, 1534, 1530, 1519, 1523, 1517, 1531, 1535, 1545, 1567, 1594, 1584, 1599, 1607, 1622, 1636, 1639, 1655, 1649, 1653, 1654, 1667, 1675, 1685, 1700, 1714, 1728, 1746, 1746, 1767, 1787, 1801, 1824, 1840, 1858, 1887, 1907, 1919, 1943, 1951, 1982, 1989, 1999, 2005, 1999, 2021, 2044, 2079, 2083, 2097, 2109, 2125, 2150, 2161, 2178, 2190, 2194, 2205, 2205, 2202, 2208, 2214, 2233, 2262, 2283, 2308, 2336, 2348, 2345, 2352, 2360, 2373, 2382]\n",
            "2264\n"
          ]
        }
      ]
    },
    {
      "cell_type": "code",
      "source": [
        "print(int(590/300))"
      ],
      "metadata": {
        "colab": {
          "base_uri": "https://localhost:8080/"
        },
        "id": "mc5Hax5TWk2g",
        "outputId": "520b02f1-5612-468b-eb86-a081635b7ff0"
      },
      "execution_count": null,
      "outputs": [
        {
          "output_type": "stream",
          "name": "stdout",
          "text": [
            "1\n"
          ]
        }
      ]
    },
    {
      "cell_type": "code",
      "source": [
        "trainls = []\n",
        "labells = []\n",
        "for i in range(len(data)):\n",
        "  start =0\n",
        "  end = 299\n",
        "  while(end < len(data[i])):\n",
        "    trainls.append(data[i][start : end + 1])\n",
        "    labells.append(label[i])\n",
        "    start = start + 300\n",
        "    end = end + 300\n"
      ],
      "metadata": {
        "id": "m_tocFqPdGQf"
      },
      "execution_count": null,
      "outputs": []
    },
    {
      "cell_type": "code",
      "source": [
        "print(len(trainls), len(labells))\n",
        "\n",
        "for i in range(len(trainls)):\n",
        "  print(labells[i] , len(trainls[i]))"
      ],
      "metadata": {
        "id": "Es2KMwrIekZX"
      },
      "execution_count": null,
      "outputs": []
    },
    {
      "cell_type": "code",
      "source": [
        "print(trainls[6])"
      ],
      "metadata": {
        "colab": {
          "base_uri": "https://localhost:8080/"
        },
        "id": "5y_6NESE3F1S",
        "outputId": "7d76de90-0c9c-4756-9ff5-bf07a16182e3"
      },
      "execution_count": null,
      "outputs": [
        {
          "output_type": "stream",
          "name": "stdout",
          "text": [
            "[2389, 2390, 2368, 2358, 2343, 2344, 2352, 2358, 2371, 2382, 2378, 2376, 2376, 2370, 2372, 2379, 2378, 2383, 2376, 2363, 2365, 2349, 2359, 2365, 2358, 2384, 2388, 2395, 2391, 2380, 2374, 2366, 2369, 2381, 2394, 2411, 2420, 2435, 2438, 2424, 2427, 2419, 2426, 2435, 2442, 2435, 2432, 2431, 2452, 2464, 2478, 2497, 2517, 2539, 2557, 2560, 2584, 2597, 2619, 2641, 2673, 2713, 2747, 2783, 2817, 2869, 2897, 2927, 2974, 3015, 3047, 3070, 3098, 3114, 3158, 3193, 3218, 3248, 3270, 3281, 3293, 3293, 3288, 3296, 3296, 3295, 3282, 3266, 3251, 3231, 3202, 3168, 3125, 3082, 3028, 2951, 2884, 2816, 2747, 2697, 2633, 2572, 2512, 2444, 2366, 2300, 2229, 2168, 2117, 2072, 2010, 1962, 1916, 1850, 1791, 1732, 1680, 1622, 1566, 1513, 1455, 1397, 1326, 1253, 1177, 1127, 1075, 1021, 958, 874, 810, 739, 667, 628, 550, 484, 432, 386, 334, 296, 254, 220, 199, 188, 160, 149, 125, 116, 91, 68, 33, 19, 0, 0, 0, 0, 0, 0, 0, 0, 0, 0, 7, 21, 40, 69, 95, 106, 122, 145, 180, 230, 260, 310, 348, 394, 448, 517, 576, 649, 715, 784, 851, 922, 993, 1074, 1154, 1227, 1290, 1346, 1409, 1474, 1532, 1607, 1674, 1739, 1802, 1861, 1918, 1969, 2008, 2062, 2116, 2166, 2226, 2266, 2310, 2367, 2395, 2436, 2485, 2529, 2559, 2591, 2608, 2630, 2645, 2651, 2652, 2655, 2649, 2674, 2671, 2665, 2670, 2664, 2658, 2653, 2667, 2669, 2679, 2676, 2688, 2696, 2690, 2676, 2666, 2657, 2647, 2640, 2614, 2595, 2583, 2561, 2552, 2539, 2520, 2513, 2501, 2487, 2473, 2462, 2465, 2466, 2473, 2487, 2498, 2500, 2516, 2524, 2536, 2562, 2586, 2615, 2649, 2685, 2694, 2710, 2722, 2742, 2765, 2785, 2814, 2834, 2844, 2856, 2872, 2883, 2895, 2906, 2916, 2939, 2942, 2945, 2955, 2960, 2974, 2992, 2997, 3014, 3027, 3015, 3012, 3015, 3002, 2991, 3011, 3022, 3032, 3031]\n"
          ]
        }
      ]
    },
    {
      "cell_type": "code",
      "source": [
        "!pip install scipy"
      ],
      "metadata": {
        "colab": {
          "base_uri": "https://localhost:8080/"
        },
        "id": "ko89EGPN5vH5",
        "outputId": "2e0b8384-8881-427c-c491-6bd54f5fe7fb"
      },
      "execution_count": null,
      "outputs": [
        {
          "output_type": "stream",
          "name": "stdout",
          "text": [
            "Looking in indexes: https://pypi.org/simple, https://us-python.pkg.dev/colab-wheels/public/simple/\n",
            "Requirement already satisfied: scipy in /usr/local/lib/python3.7/dist-packages (1.7.3)\n",
            "Requirement already satisfied: numpy<1.23.0,>=1.16.5 in /usr/local/lib/python3.7/dist-packages (from scipy) (1.21.6)\n"
          ]
        }
      ]
    },
    {
      "cell_type": "code",
      "source": [
        "x = np.array(trainls[5])\n",
        "print(x.shape)"
      ],
      "metadata": {
        "colab": {
          "base_uri": "https://localhost:8080/"
        },
        "id": "dTMbuKK87pbA",
        "outputId": "cd6aefa1-b86a-4846-c95c-14196ddca32e"
      },
      "execution_count": null,
      "outputs": [
        {
          "output_type": "stream",
          "name": "stdout",
          "text": [
            "(300,)\n"
          ]
        }
      ]
    },
    {
      "cell_type": "code",
      "source": [
        "\n",
        "from scipy import signal\n",
        "from scipy.fft import fftshift\n",
        "import matplotlib.pyplot as plt\n",
        "import numpy as np\n",
        "\n",
        "x = np.array(trainls[5])\n",
        "\n",
        "f, t, Sxx = signal.spectrogram(x, 100)\n",
        "plt.pcolormesh(t, fftshift(f), fftshift(Sxx, axes=0), shading='gouraud')\n",
        "plt.ylabel('Frequency [Hz]')\n",
        "plt.xlabel('Time [sec]')\n",
        "plt.show()\n"
      ],
      "metadata": {
        "colab": {
          "base_uri": "https://localhost:8080/",
          "height": 283
        },
        "id": "C_kum9n73Z95",
        "outputId": "c53faf1a-3349-4807-b248-c651e1e16c3a"
      },
      "execution_count": null,
      "outputs": [
        {
          "output_type": "display_data",
          "data": {
            "text/plain": [
              "<Figure size 432x288 with 1 Axes>"
            ],
            "image/png": "[encoded data removed]"
          },
          "metadata": {
            "needs_background": "light"
          }
        }
      ]
    },
    {
      "cell_type": "code",
      "source": [
        ""
      ],
      "metadata": {
        "id": "--bbGXym9nTJ"
      },
      "execution_count": null,
      "outputs": []
    },
    {
      "cell_type": "code",
      "source": [
        "from scipy import signal\n",
        "from scipy.fft import fftshift\n",
        "import matplotlib.pyplot as plt\n",
        "import numpy as np\n",
        "\n",
        "# convert time to spectogram \n",
        "train_cvt_spectogram = []\n",
        "label_cvt = []\n",
        "\n",
        "for i in range(len(labells)):\n",
        "  x = int(labells[i][2:])\n",
        "  label_cvt.append(x)\n",
        "\n",
        "for i in range(len(trainls)):\n",
        "  f, t, Sxx = signal.spectrogram(np.array(trainls[i]), 100)\n",
        "  train_cvt_spectogram.append(Sxx)\n"
      ],
      "metadata": {
        "id": "69eRmXgh9H8u"
      },
      "execution_count": null,
      "outputs": []
    },
    {
      "cell_type": "code",
      "source": [
        "print(len(train_cvt_spectogram))\n",
        "\n",
        "print(len(train_cvt_spectogram[5]))"
      ],
      "metadata": {
        "colab": {
          "base_uri": "https://localhost:8080/"
        },
        "id": "ygtrbYsf9IE_",
        "outputId": "5445d7a6-a7d2-49bd-b351-a2999a5db7e9"
      },
      "execution_count": null,
      "outputs": [
        {
          "output_type": "stream",
          "name": "stdout",
          "text": [
            "206\n",
            "129\n"
          ]
        }
      ]
    },
    {
      "cell_type": "code",
      "source": [
        "print(label_cvt)"
      ],
      "metadata": {
        "colab": {
          "base_uri": "https://localhost:8080/"
        },
        "id": "PppiwX7J-jXp",
        "outputId": "5c5c1b35-13e6-4ff3-b94f-ae73278e092c"
      },
      "execution_count": null,
      "outputs": [
        {
          "output_type": "stream",
          "name": "stdout",
          "text": [
            "[0, 0, 0, 0, 0, 2, 3, 3, 0, 2, 0, 3, 0, 7, 7, 7, 7, 7, 7, 7, 7, 7, 2, 8, 8, 0, 0, 0, 0, 0, 0, 9, 9, 9, 9, 15, 0, 0, 0, 0, 0, 0, 2, 4, 4, 4, 4, 4, 4, 4, 4, 4, 4, 4, 4, 10, 10, 10, 10, 10, 11, 10, 10, 10, 10, 10, 10, 10, 8, 8, 8, 8, 8, 8, 8, 8, 8, 8, 1, 1, 1, 1, 1, 1, 1, 1, 1, 1, 1, 1, 8, 8, 8, 8, 8, 8, 14, 8, 2, 3, 0, 6, 6, 6, 6, 6, 3, 0, 0, 1, 8, 8, 0, 10, 10, 10, 10, 10, 11, 1, 13, 13, 13, 13, 13, 13, 13, 13, 13, 8, 3, 10, 13, 13, 13, 13, 13, 0, 0, 0, 2, 13, 13, 13, 13, 13, 0, 0, 3, 0, 2, 0, 3, 3, 0, 0, 3, 3, 0, 2, 2, 3, 0, 0, 0, 0, 0, 0, 0, 0, 0, 0, 0, 0, 7, 7, 0, 0, 0, 0, 0, 0, 0, 0, 0, 0, 0, 0, 0, 6, 6, 0, 0, 0, 2, 3, 0, 0, 2, 0, 0, 0, 6, 6, 6, 1]\n"
          ]
        }
      ]
    },
    {
      "cell_type": "code",
      "source": [
        "import pickle\n",
        "\n",
        "pickle_out = open(\"data_spec.pickle\",\"wb\")\n",
        "pickle.dump(train_cvt_spectogram, pickle_out)\n",
        "pickle_out.close()\n",
        "\n",
        "pickle_out = open(\"label_spec.pickle\",\"wb\")\n",
        "pickle.dump(label_cvt, pickle_out)\n",
        "pickle_out.close()"
      ],
      "metadata": {
        "id": "kl51EY4G9IKg"
      },
      "execution_count": null,
      "outputs": []
    },
    {
      "cell_type": "code",
      "source": [
        "from scipy import signal\n",
        "from scipy.fft import fftshift\n",
        "import matplotlib.pyplot as plt\n",
        "rng = np.random.default_rng()\n",
        "\n",
        "fs = 10e3\n",
        "N = 1e5\n",
        "amp = 2 * np.sqrt(2)\n",
        "noise_power = 0.01 * fs / 2\n",
        "time = np.arange(N) / float(fs)\n",
        "mod = 500*np.cos(2*np.pi*0.25*time)\n",
        "carrier = amp * np.sin(2*np.pi*3e3*time + mod)\n",
        "noise = rng.normal(scale=np.sqrt(noise_power), size=time.shape)\n",
        "noise *= np.exp(-time/5)\n",
        "x = carrier + noise\n",
        "\n",
        "f, t, Sxx = signal.spectrogram(x, fs)\n",
        "plt.pcolormesh(t, f, Sxx, shading='gouraud')\n",
        "plt.ylabel('Frequency [Hz]')\n",
        "plt.xlabel('Time [sec]')\n",
        "plt.show()"
      ],
      "metadata": {
        "colab": {
          "base_uri": "https://localhost:8080/",
          "height": 283
        },
        "id": "iK79zyom3aBJ",
        "outputId": "a252fee6-3dad-4fe1-f763-58e0828dbfef"
      },
      "execution_count": null,
      "outputs": [
        {
          "output_type": "display_data",
          "data": {
            "text/plain": [
              "<Figure size 432x288 with 1 Axes>"
            ],
            "image/png": "[encoded data removed]"
          },
          "metadata": {
            "needs_background": "light"
          }
        }
      ]
    },
    {
      "cell_type": "code",
      "source": [
        "import math\n",
        "import numpy as np\n",
        "import matplotlib.pyplot as plt\n",
        " \n",
        "# Set the time difference to take picture of\n",
        "# the the generated signal.\n",
        "Time_difference = 0.01\n",
        " \n",
        "# Generating an array of values\n",
        "Time_Array = np.linspace(0, 2, math.ceil(100 / Time_difference))\n",
        " \n",
        "# Actual data array which needs to be plot\n",
        "Data = 20*(np.sin(3 * np.pi * Time_Array))\n",
        "\n",
        "print(Data.shape)\n",
        "\n",
        "\n",
        "f, t, Sxx = signal.spectrogram(Data, 100)\n",
        "plt.pcolormesh(t, f, Sxx, shading='gouraud')\n",
        "plt.ylabel('Frequency [Hz]')\n",
        "plt.xlabel('Time [sec]')\n",
        "plt.show()\n"
      ],
      "metadata": {
        "colab": {
          "base_uri": "https://localhost:8080/",
          "height": 300
        },
        "id": "pGLw_Zw33aD3",
        "outputId": "bd701199-ee5f-4d34-ae6d-1223cbdbe8cc"
      },
      "execution_count": null,
      "outputs": [
        {
          "output_type": "stream",
          "name": "stdout",
          "text": [
            "(10000,)\n"
          ]
        },
        {
          "output_type": "display_data",
          "data": {
            "text/plain": [
              "<Figure size 432x288 with 1 Axes>"
            ],
            "image/png": "[encoded data removed]"
          },
          "metadata": {
            "needs_background": "light"
          }
        }
      ]
    },
    {
      "cell_type": "code",
      "source": [
        "print(Sxx.shape)"
      ],
      "metadata": {
        "colab": {
          "base_uri": "https://localhost:8080/"
        },
        "id": "yo9HzBYz7SqS",
        "outputId": "7e337722-c5e6-461f-abd5-f9688c59e9a1"
      },
      "execution_count": null,
      "outputs": [
        {
          "output_type": "stream",
          "name": "stdout",
          "text": [
            "(129, 44)\n"
          ]
        }
      ]
    },
    {
      "cell_type": "code",
      "source": [
        ""
      ],
      "metadata": {
        "id": "cPE4bOEY_uDw"
      },
      "execution_count": null,
      "outputs": []
    },
    {
      "cell_type": "code",
      "source": [
        "import pickle\n",
        "pickle_in = open(\"/content/data_spec.pickle\",\"rb\")\n",
        "data = pickle.load(pickle_in)\n",
        "\n",
        "pickle_in = open(\"/content/label_spec.pickle\",\"rb\")\n",
        "label = pickle.load(pickle_in)"
      ],
      "metadata": {
        "id": "SLm_66Nk_uGX"
      },
      "execution_count": null,
      "outputs": []
    },
    {
      "cell_type": "code",
      "source": [
        "# convert other id to label 1: object presence\n",
        "new_label = []\n",
        "\n",
        "for i in range(len(label)):\n",
        "  if(label[i] !=0):\n",
        "    new_label.append(1)\n",
        "  else:\n",
        "    new_label.append(0)\n"
      ],
      "metadata": {
        "id": "iH1pBOJCLey7"
      },
      "execution_count": null,
      "outputs": []
    },
    {
      "cell_type": "code",
      "source": [
        "print(new_label)\n",
        "print(label)"
      ],
      "metadata": {
        "colab": {
          "base_uri": "https://localhost:8080/"
        },
        "id": "IOQMQe0EMMQ6",
        "outputId": "8651b3e6-4d2f-45df-eb4c-e5c6f2265026"
      },
      "execution_count": null,
      "outputs": [
        {
          "output_type": "stream",
          "name": "stdout",
          "text": [
            "[0, 0, 0, 0, 0, 1, 1, 1, 0, 1, 0, 1, 0, 1, 1, 1, 1, 1, 1, 1, 1, 1, 1, 1, 1, 0, 0, 0, 0, 0, 0, 1, 1, 1, 1, 1, 0, 0, 0, 0, 0, 0, 1, 1, 1, 1, 1, 1, 1, 1, 1, 1, 1, 1, 1, 1, 1, 1, 1, 1, 1, 1, 1, 1, 1, 1, 1, 1, 1, 1, 1, 1, 1, 1, 1, 1, 1, 1, 1, 1, 1, 1, 1, 1, 1, 1, 1, 1, 1, 1, 1, 1, 1, 1, 1, 1, 1, 1, 1, 1, 0, 1, 1, 1, 1, 1, 1, 0, 0, 1, 1, 1, 0, 1, 1, 1, 1, 1, 1, 1, 1, 1, 1, 1, 1, 1, 1, 1, 1, 1, 1, 1, 1, 1, 1, 1, 1, 0, 0, 0, 1, 1, 1, 1, 1, 1, 0, 0, 1, 0, 1, 0, 1, 1, 0, 0, 1, 1, 0, 1, 1, 1, 0, 0, 0, 0, 0, 0, 0, 0, 0, 0, 0, 0, 1, 1, 0, 0, 0, 0, 0, 0, 0, 0, 0, 0, 0, 0, 0, 1, 1, 0, 0, 0, 1, 1, 0, 0, 1, 0, 0, 0, 1, 1, 1, 1]\n",
            "[0, 0, 0, 0, 0, 2, 3, 3, 0, 2, 0, 3, 0, 7, 7, 7, 7, 7, 7, 7, 7, 7, 2, 8, 8, 0, 0, 0, 0, 0, 0, 9, 9, 9, 9, 15, 0, 0, 0, 0, 0, 0, 2, 4, 4, 4, 4, 4, 4, 4, 4, 4, 4, 4, 4, 10, 10, 10, 10, 10, 11, 10, 10, 10, 10, 10, 10, 10, 8, 8, 8, 8, 8, 8, 8, 8, 8, 8, 1, 1, 1, 1, 1, 1, 1, 1, 1, 1, 1, 1, 8, 8, 8, 8, 8, 8, 14, 8, 2, 3, 0, 6, 6, 6, 6, 6, 3, 0, 0, 1, 8, 8, 0, 10, 10, 10, 10, 10, 11, 1, 13, 13, 13, 13, 13, 13, 13, 13, 13, 8, 3, 10, 13, 13, 13, 13, 13, 0, 0, 0, 2, 13, 13, 13, 13, 13, 0, 0, 3, 0, 2, 0, 3, 3, 0, 0, 3, 3, 0, 2, 2, 3, 0, 0, 0, 0, 0, 0, 0, 0, 0, 0, 0, 0, 7, 7, 0, 0, 0, 0, 0, 0, 0, 0, 0, 0, 0, 0, 0, 6, 6, 0, 0, 0, 2, 3, 0, 0, 2, 0, 0, 0, 6, 6, 6, 1]\n"
          ]
        }
      ]
    },
    {
      "cell_type": "code",
      "source": [
        "np_data = np.array(data).reshape((206,129))\n",
        "np_label = np.array(new_label).reshape((206,1))\n",
        "\n",
        "print(np_data.shape, np_label.shape)"
      ],
      "metadata": {
        "colab": {
          "base_uri": "https://localhost:8080/"
        },
        "id": "8R1afFApKWky",
        "outputId": "1eb659f6-c63c-47ce-d6ff-811dc682e08e"
      },
      "execution_count": null,
      "outputs": [
        {
          "output_type": "stream",
          "name": "stdout",
          "text": [
            "(206, 129) (206, 1)\n"
          ]
        }
      ]
    },
    {
      "cell_type": "code",
      "source": [
        "print(np_data)"
      ],
      "metadata": {
        "colab": {
          "base_uri": "https://localhost:8080/"
        },
        "id": "U8YaH8A4OW9x",
        "outputId": "5d123093-cb33-408a-8f3e-411a920f9bf4"
      },
      "execution_count": null,
      "outputs": [
        {
          "output_type": "stream",
          "name": "stdout",
          "text": [
            "[[2.85798759e+01 1.46201656e+03 5.46498001e+03 ... 1.97637071e-01\n",
            "  3.86001913e-01 6.73948066e-03]\n",
            " [6.24192379e+01 1.45405918e+03 3.11117733e+03 ... 3.39627556e-01\n",
            "  2.92118847e-01 5.83735477e-01]\n",
            " [1.54072284e+01 9.72286884e+02 1.26697461e+03 ... 4.08975014e-01\n",
            "  6.47326147e-02 4.44223503e-02]\n",
            " ...\n",
            " [2.15474432e+03 8.28124402e+03 5.29889587e+04 ... 6.21416156e-01\n",
            "  2.57015422e+00 2.33414437e-02]\n",
            " [1.31365132e+03 6.89374138e+04 1.58542642e+04 ... 3.68518341e-01\n",
            "  5.45289041e-01 1.86993082e-02]\n",
            " [6.88056177e+03 8.77861339e+04 2.05229533e+04 ... 1.51778944e+00\n",
            "  5.09387634e-01 3.33853779e-01]]\n"
          ]
        }
      ]
    },
    {
      "cell_type": "code",
      "source": [
        "import numpy as np\n",
        "from sklearn.model_selection import train_test_split\n",
        "\n",
        "\n",
        "X_train, X_test, y_train, y_test = train_test_split( np_data, np_label, test_size=0.2)\n"
      ],
      "metadata": {
        "id": "mNU65Ah1JXQR"
      },
      "execution_count": null,
      "outputs": []
    },
    {
      "cell_type": "code",
      "source": [
        "print(X_train.shape)"
      ],
      "metadata": {
        "colab": {
          "base_uri": "https://localhost:8080/"
        },
        "id": "gxPC1OXIPdbh",
        "outputId": "7458c7a6-7eb2-4393-e284-b766eb9fa9f4"
      },
      "execution_count": null,
      "outputs": [
        {
          "output_type": "stream",
          "name": "stdout",
          "text": [
            "(164, 129)\n"
          ]
        }
      ]
    },
    {
      "cell_type": "code",
      "source": [
        "from sklearn.preprocessing import StandardScaler\n",
        "sc = StandardScaler()\n",
        "\n",
        "X_train[:, :] = sc.fit_transform(X_train[:, :])\n",
        "\n",
        "X_train = np.array(X_train).reshape((164,129,1))"
      ],
      "metadata": {
        "id": "dV1BAewnOdja"
      },
      "execution_count": null,
      "outputs": []
    },
    {
      "cell_type": "code",
      "source": [
        ""
      ],
      "metadata": {
        "id": "RPQkuZFXQPe_"
      },
      "execution_count": null,
      "outputs": []
    },
    {
      "cell_type": "code",
      "source": [
        "print(X_train.shape[1:])"
      ],
      "metadata": {
        "colab": {
          "base_uri": "https://localhost:8080/"
        },
        "id": "pA8_tVWvLD_S",
        "outputId": "89705ea1-2376-4137-85aa-7e54a57a362f"
      },
      "execution_count": null,
      "outputs": [
        {
          "output_type": "stream",
          "name": "stdout",
          "text": [
            "(129, 1)\n"
          ]
        }
      ]
    },
    {
      "cell_type": "code",
      "source": [
        "import tensorflow as tf\n",
        "from tensorflow.keras.models import Sequential\n",
        "from tensorflow.keras.layers import Dense, Dropout, LSTM\n",
        "\n",
        "\n",
        "model = Sequential()\n",
        "model.add(LSTM(128, input_shape=(X_train.shape[1:]), activation='relu', return_sequences=True))\n",
        "model.add(LSTM(128, activation='relu'))\n",
        "model.add(Dense(32, activation='relu'))\n",
        "\n",
        "model.add(Dense(1, activation='sigmoid'))\n",
        "model.compile(optimizer='adam', loss='binary_crossentropy', metrics=['accuracy'])"
      ],
      "metadata": {
        "colab": {
          "base_uri": "https://localhost:8080/"
        },
        "id": "wx_M4iMZ_uIx",
        "outputId": "ffa37f2f-b13d-4fdf-b2d1-ddfeb4e0ee30"
      },
      "execution_count": null,
      "outputs": [
        {
          "output_type": "stream",
          "name": "stderr",
          "text": [
            "WARNING:tensorflow:Layer lstm_11 will not use cuDNN kernels since it doesn't meet the criteria. It will use a generic GPU kernel as fallback when running on GPU.\n",
            "WARNING:tensorflow:Layer lstm_12 will not use cuDNN kernels since it doesn't meet the criteria. It will use a generic GPU kernel as fallback when running on GPU.\n"
          ]
        }
      ]
    },
    {
      "cell_type": "code",
      "source": [
        "\n",
        "model.fit(X_train,\n",
        "          y_train,\n",
        "          epochs=20,\n",
        "          validation_data=(X_test, y_test))"
      ],
      "metadata": {
        "colab": {
          "base_uri": "https://localhost:8080/"
        },
        "id": "qSQV6iyg_uLc",
        "outputId": "e5d1d794-b357-44f1-cfa2-686a17cc0775"
      },
      "execution_count": null,
      "outputs": [
        {
          "output_type": "stream",
          "name": "stdout",
          "text": [
            "Epoch 1/20\n",
            "6/6 [==============================] - 5s 572ms/step - loss: 0.6791 - accuracy: 0.6220 - val_loss: 16589815.0000 - val_accuracy: 0.6905\n",
            "Epoch 2/20\n",
            "6/6 [==============================] - 3s 464ms/step - loss: 0.5981 - accuracy: 0.6707 - val_loss: 96583159669611036672.0000 - val_accuracy: 0.6905\n",
            "Epoch 3/20\n",
            "6/6 [==============================] - 3s 470ms/step - loss: 0.6190 - accuracy: 0.6707 - val_loss: 2158711013376.0000 - val_accuracy: 0.6905\n",
            "Epoch 4/20\n",
            "6/6 [==============================] - 3s 449ms/step - loss: 0.6040 - accuracy: 0.6707 - val_loss: 920804992.0000 - val_accuracy: 0.6905\n",
            "Epoch 5/20\n",
            "6/6 [==============================] - 3s 482ms/step - loss: 0.6162 - accuracy: 0.6707 - val_loss: 368480416.0000 - val_accuracy: 0.6905\n",
            "Epoch 6/20\n",
            "6/6 [==============================] - 3s 485ms/step - loss: 0.6149 - accuracy: 0.6707 - val_loss: 75997290496.0000 - val_accuracy: 0.6905\n",
            "Epoch 7/20\n",
            "6/6 [==============================] - 3s 498ms/step - loss: 0.6004 - accuracy: 0.6707 - val_loss: 37135945098592256.0000 - val_accuracy: 0.6905\n",
            "Epoch 8/20\n",
            "6/6 [==============================] - 3s 483ms/step - loss: 0.5890 - accuracy: 0.6707 - val_loss: 6954381517783040.0000 - val_accuracy: 0.6905\n",
            "Epoch 9/20\n",
            "6/6 [==============================] - 3s 508ms/step - loss: 0.5900 - accuracy: 0.6707 - val_loss: 71028240700932096.0000 - val_accuracy: 0.6905\n",
            "Epoch 10/20\n",
            "6/6 [==============================] - 4s 555ms/step - loss: 0.5903 - accuracy: 0.6707 - val_loss: 541331527594672128.0000 - val_accuracy: 0.6905\n",
            "Epoch 11/20\n",
            "6/6 [==============================] - 3s 479ms/step - loss: 0.5949 - accuracy: 0.6707 - val_loss: 399105300495335424.0000 - val_accuracy: 0.6905\n",
            "Epoch 12/20\n",
            "6/6 [==============================] - 3s 472ms/step - loss: 0.5939 - accuracy: 0.6707 - val_loss: 2887984938097836032.0000 - val_accuracy: 0.6905\n",
            "Epoch 13/20\n",
            "6/6 [==============================] - 3s 491ms/step - loss: 0.5874 - accuracy: 0.6707 - val_loss: 5861455181221023711232.0000 - val_accuracy: 0.6905\n",
            "Epoch 14/20\n",
            "6/6 [==============================] - 3s 461ms/step - loss: 0.5865 - accuracy: 0.6707 - val_loss: 1733457402083491440492544.0000 - val_accuracy: 0.6905\n",
            "Epoch 15/20\n",
            "6/6 [==============================] - 3s 488ms/step - loss: 0.5939 - accuracy: 0.6707 - val_loss: 2206030856572188491776.0000 - val_accuracy: 0.6905\n",
            "Epoch 16/20\n",
            "6/6 [==============================] - 3s 468ms/step - loss: 0.5854 - accuracy: 0.6707 - val_loss: 85713229387743100928.0000 - val_accuracy: 0.6905\n",
            "Epoch 17/20\n",
            "6/6 [==============================] - 3s 472ms/step - loss: 0.5884 - accuracy: 0.6707 - val_loss: 16974793772745359360.0000 - val_accuracy: 0.6905\n",
            "Epoch 18/20\n",
            "6/6 [==============================] - 3s 463ms/step - loss: 0.5908 - accuracy: 0.6707 - val_loss: 6938601717743222784.0000 - val_accuracy: 0.6905\n",
            "Epoch 19/20\n",
            "6/6 [==============================] - 3s 488ms/step - loss: 0.5902 - accuracy: 0.6707 - val_loss: 8240143109564923904.0000 - val_accuracy: 0.6905\n",
            "Epoch 20/20\n",
            "5/6 [========================>.....] - ETA: 0s - loss: 0.5875 - accuracy: 0.6750"
          ]
        }
      ]
    },
    {
      "cell_type": "code",
      "source": [
        ""
      ],
      "metadata": {
        "id": "w1PVpmgzLUyZ"
      },
      "execution_count": null,
      "outputs": []
    }
  ]
}